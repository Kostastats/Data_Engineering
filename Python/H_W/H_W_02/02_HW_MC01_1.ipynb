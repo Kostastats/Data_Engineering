{
 "cells": [
  {
   "cell_type": "markdown",
   "id": "074c1243",
   "metadata": {},
   "source": [
    "### Задание 1\n",
    "Дана переменная, в которой хранится слово из латинских букв. Напишите код, который выводит на экран:\n",
    "\n",
    "    среднюю букву, если число букв в слове нечетное;\n",
    "    две средних буквы, если число букв четное.\n",
    " "
   ]
  },
  {
   "cell_type": "code",
   "execution_count": 13,
   "id": "a12c43d3",
   "metadata": {},
   "outputs": [
    {
     "name": "stdout",
     "output_type": "stream",
     "text": [
      "введите слово урбанизированный\n",
      "ИР\n",
      "16\n"
     ]
    }
   ],
   "source": [
    "middle = input('введите слово ').upper()\n",
    "output = middle[(len(middle)-1)//2:(len(middle)+2)//2]\n",
    "print(output)\n",
    "print(len(middle))"
   ]
  },
  {
   "cell_type": "code",
   "execution_count": 20,
   "id": "7860eab7",
   "metadata": {},
   "outputs": [],
   "source": [
    "def letter():\n",
    "    middle = input('введите слово ').upper()\n",
    "    output = middle[(len(middle)-1)//2:(len(middle)+2)//2]\n",
    "    print('средняя буква/ы/ в слове ', middle, ': ',output)\n",
    "    print(len(middle))"
   ]
  },
  {
   "cell_type": "code",
   "execution_count": 21,
   "id": "be28f3a0",
   "metadata": {},
   "outputs": [
    {
     "name": "stdout",
     "output_type": "stream",
     "text": [
      "введите слово сороконожка\n",
      "средняя буква/ы/ в слове  СОРОКОНОЖКА :  О\n",
      "11\n"
     ]
    }
   ],
   "source": [
    "letter()"
   ]
  },
  {
   "cell_type": "code",
   "execution_count": 22,
   "id": "b2a33266",
   "metadata": {},
   "outputs": [
    {
     "name": "stdout",
     "output_type": "stream",
     "text": [
      "введите слово миллитаризм\n",
      "средняя буква/ы/ в слове  МИЛЛИТАРИЗМ :  Т\n",
      "11\n"
     ]
    }
   ],
   "source": [
    "letter()"
   ]
  },
  {
   "cell_type": "code",
   "execution_count": 23,
   "id": "4646f0a0",
   "metadata": {},
   "outputs": [
    {
     "name": "stdout",
     "output_type": "stream",
     "text": [
      "введите слово снегоуборочная\n",
      "средняя буква/ы/ в слове  СНЕГОУБОРОЧНАЯ :  БО\n",
      "14\n"
     ]
    }
   ],
   "source": [
    "letter()"
   ]
  },
  {
   "cell_type": "markdown",
   "id": "e23c9d4d",
   "metadata": {},
   "source": [
    "### Задание 2\n",
    "Напишите программу, которая последовательно запрашивает у пользователя числа (по одному за раз) и после первого нуля выводит сумму всех ранее введенных чисел."
   ]
  },
  {
   "cell_type": "code",
   "execution_count": 30,
   "id": "ba791247",
   "metadata": {},
   "outputs": [
    {
     "name": "stdout",
     "output_type": "stream",
     "text": [
      "введите digit 4\n",
      "введите digit 8\n",
      "введите digit 4\n",
      "введите digit 9\n",
      "введите digit 0\n",
      "сумма введенных чисел 25.\n"
     ]
    }
   ],
   "source": [
    "number = 0\n",
    "#digit = int(input('введите digit '))\n",
    "while number >= 0:\n",
    "    digit = int(input('введите digit '))\n",
    "    if digit != 0:\n",
    "        number += digit\n",
    "    else:\n",
    "        print(f'сумма введенных чисел {number}.')\n",
    "        break\n",
    "    "
   ]
  },
  {
   "cell_type": "markdown",
   "id": "7f6743df",
   "metadata": {},
   "source": [
    "### Задание 3\n",
    "Мы делаем MVP dating-сервиса, и у нас есть список парней и девушек.\n",
    "\n",
    "Выдвигаем гипотезу: лучшие рекомендации мы получим, если просто отсортируем имена по алфавиту и познакомим людей с одинаковыми индексами после сортировки! Но мы не будем никого знакомить, если кто-то может остаться без пары:"
   ]
  },
  {
   "cell_type": "code",
   "execution_count": 80,
   "id": "5a72a195",
   "metadata": {},
   "outputs": [],
   "source": [
    "boys = ['Peter', 'Alex', 'John', 'Arthur', 'Richard']\n",
    "girls = ['Kate', 'Liza', 'Kira', 'Emma', 'Trisha']\n"
   ]
  },
  {
   "cell_type": "code",
   "execution_count": 81,
   "id": "131364cc",
   "metadata": {},
   "outputs": [],
   "source": [
    "def couples(boys, girls):\n",
    "    boys = sorted(boys)\n",
    "    girls = sorted(girls)\n",
    "    if len(boys) == len(girls):\n",
    "        all_ = zip(boys, girls)\n",
    "        for a in all_:\n",
    "            print(f'идеальные пары: {a}.')\n",
    "    else:\n",
    "        print('Внимание, кто-то может остаться без пары! ')"
   ]
  },
  {
   "cell_type": "code",
   "execution_count": 82,
   "id": "3a4b7446",
   "metadata": {},
   "outputs": [
    {
     "name": "stdout",
     "output_type": "stream",
     "text": [
      "идеальные пары: ('Alex', 'Emma').\n",
      "идеальные пары: ('Arthur', 'Kate').\n",
      "идеальные пары: ('John', 'Kira').\n",
      "идеальные пары: ('Peter', 'Liza').\n",
      "идеальные пары: ('Richard', 'Trisha').\n"
     ]
    }
   ],
   "source": [
    "couples(boys, girls)"
   ]
  },
  {
   "cell_type": "code",
   "execution_count": 83,
   "id": "95e06b00",
   "metadata": {},
   "outputs": [],
   "source": [
    "b = ['Sam', 'Alex', 'John', 'Vova', 'Misha', 'Piter', 'Jan']\n",
    "g = ['Tanja', 'Sonija', 'Zina']"
   ]
  },
  {
   "cell_type": "code",
   "execution_count": 84,
   "id": "836a53d5",
   "metadata": {},
   "outputs": [
    {
     "name": "stdout",
     "output_type": "stream",
     "text": [
      "Внимание, кто-то может остаться без пары! \n"
     ]
    }
   ],
   "source": [
    "couples(b,g)"
   ]
  },
  {
   "cell_type": "markdown",
   "id": "997f8098",
   "metadata": {},
   "source": [
    "### Задание 4\n",
    "У нас есть список, содержащий информацию о среднедневной температуре в Фаренгейтах за произвольный период по странам (структура данных в примере).\n",
    "\n",
    "Необходимо написать код, который рассчитает среднюю температуру за период в Цельсиях(!) для каждой страны.\n",
    "\n",
    "Пример работы программы:\n",
    "\n",
    "countries_temperature = [\n",
    "[‘Thailand’, [75.2, 77, 78.8, 73.4, 68, 75.2, 77]],\n",
    "[‘Germany’, [57.2, 55.4, 59, 59, 53.6]],\n",
    "[‘Russia’, [35.6, 37.4, 39.2, 41, 42.8, 39.2, 35.6]],\n",
    "[‘Poland’, [50, 50, 53.6, 57.2, 55.4, 55.4]]\n",
    "]\n",
    "\n",
    "Результат:\n",
    "\n",
    "\n",
    "Средняя температура в странах:\n",
    "Thailand - 23.9 С\n",
    "Germany - 13.8 С\n",
    "Russia - 3.7 С\n",
    "Poland - 12.0 С"
   ]
  },
  {
   "cell_type": "code",
   "execution_count": 86,
   "id": "27021f13",
   "metadata": {},
   "outputs": [],
   "source": [
    "c_t = [\n",
    "['Thailand', [75.2, 77, 78.8, 73.4, 68, 75.2, 77]],\n",
    "['Germany', [57.2, 55.4, 59, 59, 53.6]],\n",
    "['Russia', [35.6, 37.4, 39.2, 41, 42.8, 39.2, 35.6]],\n",
    "['Poland', [50, 50, 53.6, 57.2, 55.4, 55.4]]\n",
    "]"
   ]
  },
  {
   "cell_type": "code",
   "execution_count": 109,
   "id": "eb5f8436",
   "metadata": {},
   "outputs": [
    {
     "name": "stdout",
     "output_type": "stream",
     "text": [
      "[['Germany', [57.2, 55.4, 59, 59, 53.6]], ['Russia', [35.6, 37.4, 39.2, 41, 42.8, 39.2, 35.6]], ['Poland', [50, 50, 53.6, 57.2, 55.4, 55.4]]]\n"
     ]
    }
   ],
   "source": [
    "print(c_t[0:][0:][:])"
   ]
  },
  {
   "cell_type": "code",
   "execution_count": 121,
   "id": "5808d2af",
   "metadata": {},
   "outputs": [
    {
     "name": "stdout",
     "output_type": "stream",
     "text": [
      " Среднегодовая температура в Thailand = 23.9.\n",
      " Среднегодовая температура в Germany = 13.8.\n",
      " Среднегодовая температура в Russia = 3.7.\n",
      " Среднегодовая температура в Poland = 12.0.\n"
     ]
    }
   ],
   "source": [
    "for c in c_t:\n",
    "    average = round(((sum(c[1])/len(c[1]))-32)*(5/9), 1)\n",
    "    print(f' Среднегодовая температура в {c[0]} = {average}.')"
   ]
  },
  {
   "cell_type": "markdown",
   "id": "72941770",
   "metadata": {},
   "source": [
    "### Задание 5 (необязательное)\n",
    "Дан поток логов по количеству просмотренных страниц для каждого пользователя. Вам необходимо написать алгоритм, который считает среднее значение просмотров на пользователя. Т. е. надо посчитать отношение суммы всех просмотров к количеству уникальных пользователей.\n",
    "\n",
    "Примеры работы программы:\n",
    "\n",
    "stream = [\n",
    "‘2018-01-01,user1,3’,\n",
    "‘2018-01-07,user1,4’,\n",
    "‘2018-03-29,user1,1’,\n",
    "‘2018-04-04,user1,13’,\n",
    "‘2018-01-05,user2,7’,\n",
    "‘2018-06-14,user3,4’,\n",
    "‘2018-07-02,user3,10’,\n",
    "‘2018-03-21,user4,19’,\n",
    "‘2018-03-22,user4,4’,\n",
    "‘2018-04-22,user4,8’,\n",
    "‘2018-05-03,user4,9’,\n",
    "‘2018-05-11,user4,11’,\n",
    "]"
   ]
  },
  {
   "cell_type": "code",
   "execution_count": 1,
   "id": "6bef4406",
   "metadata": {},
   "outputs": [],
   "source": [
    "stream = [\n",
    "'2018-01-01,user1,3',\n",
    "'2018-01-07,user1,4',\n",
    "'2018-03-29,user1,1',\n",
    "'2018-04-04,user1,13',\n",
    "'2018-01-05,user2,7',\n",
    "'2018-06-14,user3,4',\n",
    "'2018-07-02,user3,10',\n",
    "'2018-03-21,user4,19',\n",
    "'2018-03-22,user4,4',\n",
    "'2018-04-22,user4,8',\n",
    "'2018-05-03,user4,9',\n",
    "'2018-05-11,user4,11',\n",
    "]"
   ]
  },
  {
   "cell_type": "code",
   "execution_count": 2,
   "id": "4b4f925b",
   "metadata": {},
   "outputs": [
    {
     "name": "stdout",
     "output_type": "stream",
     "text": [
      "user1 : 21\n",
      "user2 : 7\n",
      "user3 : 14\n",
      "user4 : 51\n"
     ]
    }
   ],
   "source": [
    "from collections import defaultdict\n",
    "\n",
    "D = defaultdict(lambda: 0)\n",
    "\n",
    "for e in stream:\n",
    "    t = e.split(',')\n",
    "    D[t[1]] += int(t[2])\n",
    "\n",
    "for k, v in D.items():\n",
    "    print(f'{k} : {v}')"
   ]
  },
  {
   "cell_type": "code",
   "execution_count": 14,
   "id": "46995390",
   "metadata": {},
   "outputs": [
    {
     "name": "stdout",
     "output_type": "stream",
     "text": [
      "Среднее количество просмотров на уникального пользователя:  23.25\n"
     ]
    }
   ],
   "source": [
    "val = 0\n",
    "key = []\n",
    "for k, v in D.items():\n",
    "    key.append(k)\n",
    "    val += v\n",
    "print('Среднее количество просмотров на уникального пользователя: ', val/len(key))"
   ]
  },
  {
   "cell_type": "markdown",
   "id": "68f18028",
   "metadata": {},
   "source": [
    "### Задание 6 (необязательное)\n",
    "Необходимо у пользователя запрашивать набор чисел разделенных пробелом. В результате в отсортированном порядке должны выводиться числа, которые повторяются в вводе более одного раза.\n",
    "\n",
    "Примеры работы программы:\n",
    "1.\n",
    "Введите числа:\n",
    "4 8 0 3 4 2 0 3\n",
    "Результат:\n",
    "0 3 4"
   ]
  },
  {
   "cell_type": "code",
   "execution_count": 1,
   "id": "9b84ad93",
   "metadata": {},
   "outputs": [],
   "source": [
    "from collections import Counter\n",
    "         \n",
    "        "
   ]
  },
  {
   "cell_type": "code",
   "execution_count": 2,
   "id": "f832646f",
   "metadata": {},
   "outputs": [
    {
     "name": "stdout",
     "output_type": "stream",
     "text": [
      "введите число любое количество цифр  224644533557899971\n",
      "Counter({'4': 3, '5': 3, '9': 3, '2': 2, '3': 2, '7': 2, '6': 1, '8': 1, '1': 1})\n"
     ]
    }
   ],
   "source": [
    "dig = input('введите число любое количество цифр  ')\n",
    "print(Counter(dig))"
   ]
  },
  {
   "cell_type": "code",
   "execution_count": 3,
   "id": "265281ad",
   "metadata": {},
   "outputs": [],
   "source": [
    "arranged = []\n",
    "counted = Counter(dig)\n",
    "for k, v in counted.items():\n",
    "    if v >= 2:\n",
    "        arranged.append(f'{k} : {v}')"
   ]
  },
  {
   "cell_type": "code",
   "execution_count": 4,
   "id": "bcb6503f",
   "metadata": {},
   "outputs": [
    {
     "data": {
      "text/plain": [
       "['2 : 2', '3 : 2', '4 : 3', '5 : 3', '7 : 2', '9 : 3']"
      ]
     },
     "execution_count": 4,
     "metadata": {},
     "output_type": "execute_result"
    }
   ],
   "source": [
    "sorted(arranged)"
   ]
  },
  {
   "cell_type": "code",
   "execution_count": null,
   "id": "17e07722",
   "metadata": {},
   "outputs": [],
   "source": []
  }
 ],
 "metadata": {
  "kernelspec": {
   "display_name": "Python 3",
   "language": "python",
   "name": "python3"
  },
  "language_info": {
   "codemirror_mode": {
    "name": "ipython",
    "version": 3
   },
   "file_extension": ".py",
   "mimetype": "text/x-python",
   "name": "python",
   "nbconvert_exporter": "python",
   "pygments_lexer": "ipython3",
   "version": "3.8.8"
  }
 },
 "nbformat": 4,
 "nbformat_minor": 5
}
