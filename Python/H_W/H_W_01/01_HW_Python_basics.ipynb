{
 "cells": [
  {
   "cell_type": "markdown",
   "id": "1c203834",
   "metadata": {},
   "source": [
    "### Задание 1\n",
    "Даны 2 переменных, в которых хранятся строки произвольной длины: phrase_1 и phrase_2.\n",
    "Напишите код, который проверяет какая из этих строк длиннее."
   ]
  },
  {
   "cell_type": "code",
   "execution_count": 2,
   "id": "6f76c91a",
   "metadata": {},
   "outputs": [],
   "source": [
    "phrase_1 = 'Насколько проще было бы писать программы, если бы не заказчики'\n",
    "phrase_2 = '640Кб должно хватить для любых задач. Билл Гейтс (по легенде)'"
   ]
  },
  {
   "cell_type": "code",
   "execution_count": 5,
   "id": "e0bad390",
   "metadata": {},
   "outputs": [],
   "source": [
    "def phrases(p1, p2):\n",
    "    if len(p1) > len(p2):\n",
    "        print('Результат:')\n",
    "        print('Фраза 1 длиннее фразы 2')\n",
    "    elif len(p1) < len(p2):\n",
    "        print('Результат:')\n",
    "        print('Фраза 2 длиннее фразы 1')\n",
    "    else:\n",
    "        print('Результат:')\n",
    "        print('Фразы равной длины')"
   ]
  },
  {
   "cell_type": "code",
   "execution_count": 6,
   "id": "918a81ce",
   "metadata": {},
   "outputs": [
    {
     "name": "stdout",
     "output_type": "stream",
     "text": [
      "Результат:\n",
      "Фраза 1 длиннее фразы 2\n"
     ]
    }
   ],
   "source": [
    "phrases(phrase_1, phrase_2)"
   ]
  },
  {
   "cell_type": "code",
   "execution_count": 22,
   "id": "9fb21598",
   "metadata": {},
   "outputs": [],
   "source": [
    "p3 = '640Кб должно хватить для любых задач. Билл Гейтс (по легенде)'\n",
    "p4 = 'Насколько проще было бы писать программы, если бы не заказчики'\n"
   ]
  },
  {
   "cell_type": "code",
   "execution_count": 31,
   "id": "d041f700",
   "metadata": {},
   "outputs": [
    {
     "name": "stdout",
     "output_type": "stream",
     "text": [
      "Результат:\n",
      "Фраза 2 длиннее фразы 1\n"
     ]
    }
   ],
   "source": [
    "phrases(p3, p4)"
   ]
  },
  {
   "cell_type": "code",
   "execution_count": 27,
   "id": "b743e463",
   "metadata": {},
   "outputs": [],
   "source": [
    "p5 = 'Насколько проще было бы писать программы, если бы не заказчики'\n",
    "p6 = 'Насколько проще было бы писать программы, если бы не заказчики'"
   ]
  },
  {
   "cell_type": "code",
   "execution_count": 28,
   "id": "8bff7389",
   "metadata": {},
   "outputs": [
    {
     "name": "stdout",
     "output_type": "stream",
     "text": [
      "Результат:\n",
      "Фразы равной длины\n"
     ]
    }
   ],
   "source": [
    "phrases(p5, p6)"
   ]
  },
  {
   "cell_type": "markdown",
   "id": "a7873cba",
   "metadata": {},
   "source": [
    "# Задание 2\n",
    "Дана переменная, в которой хранится четырехзначное число (год). Необходимо написать программу, которая выведет, является ли данный год високосным или обычным."
   ]
  },
  {
   "cell_type": "code",
   "execution_count": 1,
   "id": "2aaecdfc",
   "metadata": {},
   "outputs": [
    {
     "name": "stdout",
     "output_type": "stream",
     "text": [
      "введите год 2020\n",
      "Високосный год\n"
     ]
    }
   ],
   "source": [
    "year = int(input('введите год '))\n",
    "if year % 4 == 0 & year % 100 == 0:\n",
    "    print('Високосный год')\n",
    "else:\n",
    "    print('Обычный год')"
   ]
  },
  {
   "cell_type": "markdown",
   "id": "72ee0d46",
   "metadata": {},
   "source": [
    "# Задание 3\n",
    "Необходимо написать программу, которая будет запрашивать у пользователя месяц и дату рождения и выводить соответствующий знак зодиака."
   ]
  },
  {
   "cell_type": "code",
   "execution_count": 14,
   "id": "7273409b",
   "metadata": {},
   "outputs": [
    {
     "name": "stdout",
     "output_type": "stream",
     "text": [
      "введите день рождения 12\n",
      "введите месяц Июнь\n",
      "Близнец\n"
     ]
    }
   ],
   "source": [
    "day = int(input('введите день рождения '))\n",
    "month = input('введите месяц ')\n",
    "\n",
    "if month.lower() == 'март':\n",
    "    if day >= 21:\n",
    "        print('Овен')\n",
    "    else:\n",
    "        print('Рыбы')\n",
    "elif month.lower() == 'апрель':\n",
    "    if day >= 21:\n",
    "        print('Телец')\n",
    "    else:\n",
    "        print('Овен')\n",
    "elif month.lower() == 'май':\n",
    "    if day >= 22:\n",
    "        print('Близнец')\n",
    "    else:\n",
    "        print('Телец')\n",
    "elif month.lower() == 'июнь':\n",
    "    if day >= 22:\n",
    "        print('Рак')\n",
    "    else:\n",
    "        print('Близнец')\n",
    "elif month.lower() == 'июль':\n",
    "    if day >= 23:\n",
    "        print('Лев')\n",
    "    else:\n",
    "        print('Рак')\n",
    "elif month.lower() == 'август':\n",
    "    if day >= 23:\n",
    "        print('Дева')\n",
    "    else:\n",
    "        print('Лев')\n",
    "elif month.lower() == 'сентябрь':\n",
    "    if day >= 24:\n",
    "        print('Весы')\n",
    "    else:\n",
    "        print('Дева')\n",
    "elif month.lower() == 'октябрь':\n",
    "    if day >= 24:\n",
    "        print('Скорпион')\n",
    "    else:\n",
    "        print('Весы')\n",
    "elif month.lower() == 'ноябрь':\n",
    "    if day >= 23:\n",
    "        print('Стрелец')\n",
    "    else:\n",
    "        print('Скорпион')\n",
    "elif month.lower() == 'декабрь':\n",
    "    if day >= 23:\n",
    "        print('Козерог')\n",
    "    else:\n",
    "        print('Стрелец')\n",
    "elif month.lower() == 'январь':\n",
    "    if day >= 21:\n",
    "        print('Водолей')\n",
    "    else:\n",
    "        print('Козерог')\n",
    "elif month.lower() == 'февраль':\n",
    "    if day >= 21:\n",
    "        print('Рыбы')\n",
    "    else:\n",
    "        print('Водолей')\n",
    "else:\n",
    "    print('такого месяца нет ')\n",
    "        "
   ]
  },
  {
   "cell_type": "markdown",
   "id": "1a07e78a",
   "metadata": {},
   "source": [
    "# Задание 4\n",
    "Вам нужно написать программу для подбора упаковок по размерам товара. Размеры (ширина, длина, высота) хранятся в переменных (в сантиметрах):\n",
    "\n",
    "Используйте следующие правила:\n",
    "\n",
    "    если каждое из трех измерений менее или равно 15 сантиметрам, то выведите на экран “Коробка №1”;\n",
    "    если хотя бы одно из измерений больше 15 сантиметров, но менее 50 сантиметров, то выводите “Коробка №2”;\n",
    "    если длина товара больше 2 метров, то выводите “Упаковка для лыж”;\n",
    "    во всех остальных случаях выводите “Стандартная коробка №3”.\n",
    "    Пример работы программы:\n"
   ]
  },
  {
   "cell_type": "code",
   "execution_count": 32,
   "id": "5396c922",
   "metadata": {},
   "outputs": [
    {
     "name": "stdout",
     "output_type": "stream",
     "text": [
      "введите длину 230\n",
      "введите ширину 35\n",
      "введите высоту 35\n",
      "Упаковка для лыж\n"
     ]
    }
   ],
   "source": [
    "l_ = int(input('введите длину '))\n",
    "w = int(input('введите ширину '))\n",
    "h = int(input('введите высоту '))\n",
    "\n",
    "if l_ <= 15 and w <= 15 and h <= 15:\n",
    "    print('Коробка №1')\n",
    "elif 15 < l_ < 50 and 15<w < 50 and 15<h < 50:\n",
    "    print('Коробка №2')\n",
    "elif l_ > 200 and 15<w < 50 and 15<h < 50:\n",
    "    print('Упаковка для лыж')\n",
    "else:\n",
    "    print('Стандартная коробка №3')"
   ]
  },
  {
   "cell_type": "markdown",
   "id": "e9212175",
   "metadata": {},
   "source": [
    "# Задание 5 (необязательное)\n",
    "Дана переменная, в которой хранится шестизначное число (номер проездного билета). Напишите программу, которая будет определять, является ли данный билет “счастливым”.\n",
    "Билет считается счастливым, если сумма первых трех цифр совпадает с суммой последних трех цифр номера."
   ]
  },
  {
   "cell_type": "code",
   "execution_count": 84,
   "id": "0a47fb8b",
   "metadata": {},
   "outputs": [
    {
     "name": "stdout",
     "output_type": "stream",
     "text": [
      "введите номер билета  675897\n",
      "обычный номер\n"
     ]
    }
   ],
   "source": [
    "t = input('введите номер билета  ')\n",
    "\n",
    "if len(t) > 6 or len(t) < 6:\n",
    "    print('должно быть шесть цифр ')\n",
    "else:\n",
    "    if int(t[:1])+int(t[1:2])+int(t[2:3]) == int(t[3:4])+ int(t[4:5])+ int(t[5:6]):\n",
    "        print('lucky number')\n",
    "    else:\n",
    "        print('обычный номер') \n",
    "     "
   ]
  },
  {
   "cell_type": "code",
   "execution_count": null,
   "id": "5a2827e5",
   "metadata": {},
   "outputs": [],
   "source": []
  }
 ],
 "metadata": {
  "kernelspec": {
   "display_name": "Python 3",
   "language": "python",
   "name": "python3"
  },
  "language_info": {
   "codemirror_mode": {
    "name": "ipython",
    "version": 3
   },
   "file_extension": ".py",
   "mimetype": "text/x-python",
   "name": "python",
   "nbconvert_exporter": "python",
   "pygments_lexer": "ipython3",
   "version": "3.8.8"
  }
 },
 "nbformat": 4,
 "nbformat_minor": 5
}
